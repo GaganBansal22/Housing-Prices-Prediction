{
  "cells": [
    {
      "cell_type": "markdown",
      "metadata": {
        "id": "mzLlDtZci0Un"
      },
      "source": [
        "## Download the Dataset"
      ]
    },
    {
      "cell_type": "code",
      "execution_count": null,
      "metadata": {
        "colab": {
          "base_uri": "https://localhost:8080/"
        },
        "id": "3Jc5EsUpi2P_",
        "outputId": "881a6973-f52d-4a93-b64a-b6cd1cf2585f"
      },
      "outputs": [],
      "source": [
        "# Install the Kaggle package\n",
        "!pip install kaggle\n",
        "\n",
        "# Download the dataset\n",
        "!kaggle datasets download -d yasserh/housing-prices-dataset\n",
        "\n",
        "# Unzip the dataset\n",
        "!unzip housing-prices-dataset.zip -d housing-prices-dataset"
      ]
    },
    {
      "cell_type": "markdown",
      "metadata": {
        "id": "QSVxN2fgj2ec"
      },
      "source": [
        "## Load and Preprocess the Dataset"
      ]
    },
    {
      "cell_type": "markdown",
      "metadata": {
        "id": "N6IMIWA2nxJl"
      },
      "source": [
        "### Load the dataset"
      ]
    },
    {
      "cell_type": "code",
      "execution_count": null,
      "metadata": {
        "colab": {
          "base_uri": "https://localhost:8080/",
          "height": 0
        },
        "id": "FHKrjGypkCXf",
        "outputId": "4a06ef17-e1a1-4f1b-f4af-7911d7ff7c5f"
      },
      "outputs": [],
      "source": [
        "import numpy as np\n",
        "import matplotlib.pyplot as plt\n",
        "import pandas as pd\n",
        "\n",
        "dataset = pd.read_csv('/content/housing-prices-dataset/Housing.csv')\n",
        "dataset.head()"
      ]
    },
    {
      "cell_type": "code",
      "execution_count": 3,
      "metadata": {
        "collapsed": true,
        "id": "Z3GD0QBrkV8E"
      },
      "outputs": [],
      "source": [
        "X = dataset.iloc[:, 1:].values\n",
        "y = dataset.iloc[:, 0].values"
      ]
    },
    {
      "cell_type": "code",
      "execution_count": null,
      "metadata": {
        "colab": {
          "base_uri": "https://localhost:8080/"
        },
        "id": "Djg_cQW-m52n",
        "outputId": "6b76f72a-477f-4c76-bd3c-b1ebd0f456b5"
      },
      "outputs": [],
      "source": [
        "print(X[0])"
      ]
    },
    {
      "cell_type": "code",
      "execution_count": null,
      "metadata": {
        "colab": {
          "base_uri": "https://localhost:8080/"
        },
        "id": "J1Dcm1vJm8Fx",
        "outputId": "0f066e6f-cd8b-4d06-9c94-200429dccbc9"
      },
      "outputs": [],
      "source": [
        "print(X[1])"
      ]
    },
    {
      "cell_type": "markdown",
      "metadata": {
        "id": "B3ImlYcHniFT"
      },
      "source": [
        "### Splitting dataset"
      ]
    },
    {
      "cell_type": "code",
      "execution_count": 6,
      "metadata": {
        "id": "8syRrd1HlZfd"
      },
      "outputs": [],
      "source": [
        "from sklearn.model_selection import train_test_split\n",
        "X_train, X_test, y_train, y_test = train_test_split(X, y, test_size = 0.2, random_state = 0)"
      ]
    },
    {
      "cell_type": "code",
      "execution_count": null,
      "metadata": {
        "colab": {
          "base_uri": "https://localhost:8080/"
        },
        "id": "_q0Rw5pHnE2Z",
        "outputId": "c74b6ea4-299e-483d-db89-7c0845e80153"
      },
      "outputs": [],
      "source": [
        "print(X_train[0])"
      ]
    },
    {
      "cell_type": "code",
      "execution_count": null,
      "metadata": {
        "colab": {
          "base_uri": "https://localhost:8080/"
        },
        "id": "afmgUIbpnIyw",
        "outputId": "b41bbc21-8b8a-4f4e-ba11-fe06c610feea"
      },
      "outputs": [],
      "source": [
        "print(y_train[0])"
      ]
    },
    {
      "cell_type": "markdown",
      "metadata": {
        "id": "WWUBdUmvnmvW"
      },
      "source": [
        "### Encoding Categorical variables"
      ]
    },
    {
      "cell_type": "code",
      "execution_count": 9,
      "metadata": {
        "id": "SCm1O7xXmGOq"
      },
      "outputs": [],
      "source": [
        "from sklearn.compose import ColumnTransformer\n",
        "from sklearn.preprocessing import OneHotEncoder\n",
        "ct = ColumnTransformer(transformers=[('encoder', OneHotEncoder(), [4,5,6,7,8,10,11])], remainder='passthrough')\n",
        "X_train = np.array(ct.fit_transform(X_train))"
      ]
    },
    {
      "cell_type": "code",
      "execution_count": 10,
      "metadata": {
        "id": "16Zrcf4-mfV2"
      },
      "outputs": [],
      "source": [
        "X_test = np.array(ct.transform(X_test))"
      ]
    },
    {
      "cell_type": "code",
      "execution_count": null,
      "metadata": {
        "colab": {
          "base_uri": "https://localhost:8080/"
        },
        "id": "qbMKh9tHmqHI",
        "outputId": "211f62c3-b8c2-47d2-fa1d-598585478881"
      },
      "outputs": [],
      "source": [
        "print(X_train[0])"
      ]
    },
    {
      "cell_type": "code",
      "execution_count": null,
      "metadata": {
        "colab": {
          "base_uri": "https://localhost:8080/"
        },
        "id": "SzppTHJRtTG7",
        "outputId": "b75f92f2-3c0b-4ca8-9861-a5bca2951191"
      },
      "outputs": [],
      "source": [
        "print(X_test[0])"
      ]
    },
    {
      "cell_type": "markdown",
      "metadata": {
        "id": "oe4x_JGWpXxI"
      },
      "source": [
        "### Checking for missing data"
      ]
    },
    {
      "cell_type": "code",
      "execution_count": null,
      "metadata": {
        "colab": {
          "base_uri": "https://localhost:8080/"
        },
        "collapsed": true,
        "id": "vFGMf4_in00o",
        "outputId": "16ced649-f2de-40f9-d9b6-bc3788e9c732"
      },
      "outputs": [],
      "source": [
        "nan_rows = np.any(np.isnan(X_train.astype(np.float64)), axis=1)  # Convert to numeric type\n",
        "print(X_train[nan_rows])\n",
        "# no missing data"
      ]
    },
    {
      "cell_type": "markdown",
      "metadata": {
        "id": "cmpiwgVPps5N"
      },
      "source": [
        "## Training Models"
      ]
    },
    {
      "cell_type": "markdown",
      "metadata": {
        "id": "1XR_BnJupv-R"
      },
      "source": [
        "### Linear Regression"
      ]
    },
    {
      "cell_type": "code",
      "execution_count": null,
      "metadata": {
        "colab": {
          "base_uri": "https://localhost:8080/",
          "height": 74
        },
        "id": "MIgIT3zspyPH",
        "outputId": "ffc6a52c-a502-42d0-8372-18f6a7716c97"
      },
      "outputs": [],
      "source": [
        "from sklearn.linear_model import LinearRegression\n",
        "regressor = LinearRegression()\n",
        "regressor.fit(X_train, y_train)"
      ]
    },
    {
      "cell_type": "code",
      "execution_count": null,
      "metadata": {
        "colab": {
          "base_uri": "https://localhost:8080/"
        },
        "collapsed": true,
        "id": "BedKaDFVp9dS",
        "outputId": "80887b64-3c5a-40d2-b549-1414d274c68b"
      },
      "outputs": [],
      "source": [
        "y_pred = regressor.predict(X_test)\n",
        "np.set_printoptions(precision=2)\n",
        "print(np.concatenate((y_pred.reshape(len(y_pred),1), y_test.reshape(len(y_test),1)),1))"
      ]
    },
    {
      "cell_type": "code",
      "execution_count": null,
      "metadata": {
        "colab": {
          "base_uri": "https://localhost:8080/"
        },
        "id": "eZRXBxzHp_FD",
        "outputId": "e019e34f-a36f-4ff3-ab52-0008a2e26136"
      },
      "outputs": [],
      "source": [
        "from sklearn.metrics import r2_score\n",
        "r2_score(y_test, y_pred)"
      ]
    },
    {
      "cell_type": "code",
      "execution_count": null,
      "metadata": {
        "id": "0LP1ZDMbqFlY"
      },
      "outputs": [],
      "source": [
        "import pickle\n",
        "filename = 'linear_regression_model.sav'\n",
        "pickle.dump(regressor, open(filename, 'wb'))"
      ]
    },
    {
      "cell_type": "markdown",
      "metadata": {
        "id": "uu_G1vhkuVhf"
      },
      "source": [
        "### Support Vector regression"
      ]
    },
    {
      "cell_type": "code",
      "execution_count": null,
      "metadata": {
        "id": "vrq6QG-9vCr5"
      },
      "outputs": [],
      "source": [
        "y_train_svr = y_train.reshape(len(y_train),1)\n",
        "y_test_svr = y_test.reshape(len(y_test),1)"
      ]
    },
    {
      "cell_type": "code",
      "execution_count": null,
      "metadata": {
        "id": "FCgWIuSAurgY"
      },
      "outputs": [],
      "source": [
        "from sklearn.preprocessing import StandardScaler\n",
        "sc_X = StandardScaler()\n",
        "sc_y = StandardScaler()\n",
        "X_train_svr = sc_X.fit_transform(X_train)\n",
        "y_train_svr = sc_y.fit_transform(y_train_svr)"
      ]
    },
    {
      "cell_type": "code",
      "execution_count": null,
      "metadata": {
        "colab": {
          "base_uri": "https://localhost:8080/",
          "height": 129
        },
        "id": "0dWS5xNNux8I",
        "outputId": "a2f6e02f-f14f-491f-aa42-84b4d88f2f7f"
      },
      "outputs": [],
      "source": [
        "from sklearn.svm import SVR\n",
        "regressor = SVR(kernel = 'rbf')\n",
        "regressor.fit(X_train_svr, y_train_svr)"
      ]
    },
    {
      "cell_type": "code",
      "execution_count": null,
      "metadata": {
        "colab": {
          "base_uri": "https://localhost:8080/"
        },
        "collapsed": true,
        "id": "MfBbyW0Su2bS",
        "outputId": "da9df8c6-b56e-478f-c10d-f50215d29e69"
      },
      "outputs": [],
      "source": [
        "y_pred = sc_y.inverse_transform(regressor.predict(sc_X.transform(X_test)).reshape(-1,1))\n",
        "np.set_printoptions(precision=2)\n",
        "print(np.concatenate((y_pred.reshape(len(y_pred),1), y_test.reshape(len(y_test_svr),1)),1))"
      ]
    },
    {
      "cell_type": "code",
      "execution_count": null,
      "metadata": {
        "colab": {
          "base_uri": "https://localhost:8080/"
        },
        "id": "7koIqsoNu4LM",
        "outputId": "b7bac47c-04c0-4503-ff7b-3816d82f5ae9"
      },
      "outputs": [],
      "source": [
        "from sklearn.metrics import r2_score\n",
        "r2_score(y_test, y_pred)"
      ]
    },
    {
      "cell_type": "markdown",
      "metadata": {
        "id": "5AWHpoMRv-2y"
      },
      "source": [
        "### Decision Tree Regression"
      ]
    },
    {
      "cell_type": "code",
      "execution_count": null,
      "metadata": {
        "colab": {
          "base_uri": "https://localhost:8080/",
          "height": 74
        },
        "id": "W_LgPaHCwHBS",
        "outputId": "3648503e-0ac5-4b1a-bd0d-b0dbe90f9f61"
      },
      "outputs": [],
      "source": [
        "from sklearn.tree import DecisionTreeRegressor\n",
        "regressor = DecisionTreeRegressor(random_state = 0)\n",
        "regressor.fit(X_train, y_train)"
      ]
    },
    {
      "cell_type": "code",
      "execution_count": null,
      "metadata": {
        "colab": {
          "base_uri": "https://localhost:8080/"
        },
        "collapsed": true,
        "id": "FbNJuu3lwN8a",
        "outputId": "723f7a8e-568f-4091-9aa0-93e99917e251"
      },
      "outputs": [],
      "source": [
        "y_pred = regressor.predict(X_test)\n",
        "np.set_printoptions(precision=2)\n",
        "print(np.concatenate((y_pred.reshape(len(y_pred),1), y_test.reshape(len(y_test),1)),1))"
      ]
    },
    {
      "cell_type": "code",
      "execution_count": null,
      "metadata": {
        "colab": {
          "base_uri": "https://localhost:8080/"
        },
        "id": "TQ9Tr3F-wPC5",
        "outputId": "078d0f0a-1fb5-4225-9d19-457973a927f8"
      },
      "outputs": [],
      "source": [
        "from sklearn.metrics import r2_score\n",
        "r2_score(y_test, y_pred)"
      ]
    },
    {
      "cell_type": "markdown",
      "metadata": {
        "id": "ZqeQrBPpwgYR"
      },
      "source": [
        "### Random Forest Regression"
      ]
    },
    {
      "cell_type": "code",
      "execution_count": null,
      "metadata": {
        "colab": {
          "base_uri": "https://localhost:8080/",
          "height": 74
        },
        "id": "Xsvdvkv7wih-",
        "outputId": "f3a3b6fa-c54a-419a-86b8-151b28d18ae0"
      },
      "outputs": [],
      "source": [
        "from sklearn.ensemble import RandomForestRegressor\n",
        "regressor = RandomForestRegressor(n_estimators = 10, random_state = 0)\n",
        "regressor.fit(X_train, y_train)"
      ]
    },
    {
      "cell_type": "code",
      "execution_count": null,
      "metadata": {
        "colab": {
          "base_uri": "https://localhost:8080/"
        },
        "collapsed": true,
        "id": "7NOxFC4WwmAl",
        "outputId": "4c45bf96-72b7-4f1f-a82b-8f6d98b5272b"
      },
      "outputs": [],
      "source": [
        "y_pred = regressor.predict(X_test)\n",
        "np.set_printoptions(precision=2)\n",
        "print(np.concatenate((y_pred.reshape(len(y_pred),1), y_test.reshape(len(y_test),1)),1))"
      ]
    },
    {
      "cell_type": "code",
      "execution_count": null,
      "metadata": {
        "colab": {
          "base_uri": "https://localhost:8080/"
        },
        "id": "4F0OlJfwwnRB",
        "outputId": "13c240a0-d34d-4dc2-ac3b-c59bb0645ccd"
      },
      "outputs": [],
      "source": [
        "from sklearn.metrics import r2_score\n",
        "r2_score(y_test, y_pred)"
      ]
    },
    {
      "cell_type": "markdown",
      "metadata": {
        "id": "9qgMuG0Nwx6O"
      },
      "source": [
        "### CatBoost"
      ]
    },
    {
      "cell_type": "code",
      "execution_count": null,
      "metadata": {
        "colab": {
          "base_uri": "https://localhost:8080/"
        },
        "id": "_o04Sjltw28s",
        "outputId": "b9aee288-fe91-43e9-80a7-b69f652dc26d"
      },
      "outputs": [],
      "source": [
        "!pip install catboost\n",
        "from catboost import CatBoostClassifier\n",
        "classifier = CatBoostClassifier()\n",
        "classifier.fit(X_train, y_train)"
      ]
    },
    {
      "cell_type": "code",
      "execution_count": null,
      "metadata": {
        "id": "rxVwgYrsw7yZ"
      },
      "outputs": [],
      "source": [
        "from sklearn.metrics import confusion_matrix\n",
        "y_pred = classifier.predict(X_test)"
      ]
    },
    {
      "cell_type": "code",
      "execution_count": null,
      "metadata": {
        "colab": {
          "base_uri": "https://localhost:8080/"
        },
        "id": "JkGe1nmDw9Ti",
        "outputId": "f8452b85-9423-4f3b-c9b5-44c110b846c4"
      },
      "outputs": [],
      "source": [
        "from sklearn.metrics import r2_score\n",
        "r2_score(y_test, y_pred)"
      ]
    },
    {
      "cell_type": "markdown",
      "metadata": {
        "id": "ZLaJhYuNyYb_"
      },
      "source": [
        "### Artificial Neural Network"
      ]
    },
    {
      "cell_type": "code",
      "execution_count": 25,
      "metadata": {
        "id": "YrjcuDv30pNe"
      },
      "outputs": [],
      "source": [
        "import tensorflow as tf\n",
        "X_train_ann = tf.convert_to_tensor(X_train, dtype=tf.float32)\n",
        "y_train_ann = tf.convert_to_tensor(y_train, dtype=tf.float32)\n",
        "y_test_ann = tf.convert_to_tensor(y_test, dtype=tf.float32)\n",
        "X_test_ann = tf.convert_to_tensor(X_test, dtype=tf.float32)"
      ]
    },
    {
      "cell_type": "code",
      "execution_count": 26,
      "metadata": {
        "id": "XBaUV2P4yy44"
      },
      "outputs": [],
      "source": [
        "ann = tf.keras.models.Sequential()\n",
        "ann.add(tf.keras.layers.Dense(units=20, activation='relu'))\n",
        "ann.add(tf.keras.layers.Dense(units=512, activation='relu'))\n",
        "ann.add(tf.keras.layers.Dense(units=1024, activation='relu'))\n",
        "ann.add(tf.keras.layers.Dense(units=2048, activation='relu'))\n",
        "ann.add(tf.keras.layers.Dense(units=4096, activation='relu'))\n",
        "ann.add(tf.keras.layers.Dense(units=8192, activation='relu'))\n",
        "ann.add(tf.keras.layers.Dense(units=16384, activation='relu'))\n",
        "ann.add(tf.keras.layers.Dense(units=32768, activation='relu'))\n",
        "ann.add(tf.keras.layers.Dense(units=65536, activation='relu'))\n",
        "ann.add(tf.keras.layers.Dense(units=1))"
      ]
    },
    {
      "cell_type": "code",
      "execution_count": 27,
      "metadata": {
        "id": "sK-6gbnUy96S"
      },
      "outputs": [],
      "source": [
        "ann.compile(optimizer = 'adam', loss = 'mean_squared_error')"
      ]
    },
    {
      "cell_type": "code",
      "execution_count": null,
      "metadata": {
        "colab": {
          "base_uri": "https://localhost:8080/",
          "height": 1000
        },
        "collapsed": true,
        "id": "3TK6rU3Zy_su",
        "outputId": "f803e1b2-4983-4d55-cf2c-ddd5db9be124"
      },
      "outputs": [],
      "source": [
        "ann.fit(X_train_ann, y_train_ann, batch_size = 32, epochs = 5000)"
      ]
    },
    {
      "cell_type": "code",
      "execution_count": null,
      "metadata": {
        "id": "ZoTH3ZxAzd2N"
      },
      "outputs": [],
      "source": [
        "y_pred = ann.predict(X_test_ann)"
      ]
    },
    {
      "cell_type": "code",
      "execution_count": null,
      "metadata": {
        "id": "lET50voUzh3K"
      },
      "outputs": [],
      "source": [
        "from sklearn.metrics import r2_score\n",
        "r2_score(y_test_ann, y_pred)"
      ]
    }
  ],
  "metadata": {
    "accelerator": "GPU",
    "colab": {
      "collapsed_sections": [
        "mzLlDtZci0Un",
        "N6IMIWA2nxJl",
        "B3ImlYcHniFT"
      ],
      "gpuType": "T4",
      "provenance": []
    },
    "kernelspec": {
      "display_name": "Python 3",
      "name": "python3"
    },
    "language_info": {
      "name": "python"
    }
  },
  "nbformat": 4,
  "nbformat_minor": 0
}
